{
 "cells": [
  {
   "cell_type": "code",
   "execution_count": 1,
   "metadata": {},
   "outputs": [],
   "source": [
    "from timeit import timeit\n",
    "from matplotlib import pyplot as plt"
   ]
  },
  {
   "cell_type": "code",
   "execution_count": 2,
   "metadata": {},
   "outputs": [],
   "source": [
    "def binary_search(arr, low, high, x): \n",
    "    if high < low:\n",
    "        return -1\n",
    "    mid = (high + low) // 2\n",
    "    if arr[mid] == x: \n",
    "        return mid \n",
    "    if arr[mid] > x: \n",
    "        return binary_search(arr, low, mid - 1, x) \n",
    "    return binary_search(arr, mid + 1, high, x)"
   ]
  },
  {
   "cell_type": "code",
   "execution_count": 3,
   "metadata": {},
   "outputs": [],
   "source": [
    "def ternary_search(arr, low, high, x): \n",
    "    if high < low:\n",
    "        return -1\n",
    "    p = (high - low) // 3\n",
    "    mid1 = low + p\n",
    "    mid2 = high - p\n",
    "    if arr[mid1] == x: \n",
    "        return mid1\n",
    "    if arr[mid2] == x:\n",
    "        return mid2\n",
    "    if arr[mid1] > x: \n",
    "        return ternary_search(arr, low, mid1 - 1, x) \n",
    "    if arr[mid2] > x:\n",
    "        return ternary_search(arr, mid1 + 1, mid2 - 1, x) \n",
    "    return ternary_search(arr, mid2 + 1, high, x) "
   ]
  },
  {
   "cell_type": "code",
   "execution_count": 4,
   "metadata": {},
   "outputs": [],
   "source": [
    "def quaternary_search(arr, low, high, x): \n",
    "    if high < low:\n",
    "        return -1\n",
    "    p = (high - low) // 4\n",
    "    mid1 = low + p\n",
    "    mid2 = low + 2*p\n",
    "    mid3 = low + 3*p\n",
    "    if arr[mid1] == x: \n",
    "        return mid1\n",
    "    if arr[mid2] == x:\n",
    "        return mid2\n",
    "    if arr[mid3] == x:\n",
    "        return mid3\n",
    "    if arr[mid1] > x: \n",
    "        return ternary_search(arr, low, mid1 - 1, x) \n",
    "    if arr[mid2] > x:\n",
    "        return ternary_search(arr, mid1 + 1, mid2 - 1, x) \n",
    "    if arr[mid3] > x:\n",
    "        return ternary_search(arr, mid2 + 1, mid3 - 1, x) \n",
    "    return ternary_search(arr, mid3 + 1, high, x) "
   ]
  },
  {
   "cell_type": "code",
   "execution_count": 5,
   "metadata": {},
   "outputs": [],
   "source": [
    "n_min = 1\n",
    "n_max = 10000\n",
    "st = 100\n",
    "iterations = 1000\n",
    "\n",
    "t_binary = list()\n",
    "t_ternary = list()\n",
    "t_quaternary = list()\n",
    "for n in range(n_min, n_max, st):\n",
    "    sum_binary = list()\n",
    "    sum_ternary = list()\n",
    "    sum_quaternary = list()\n",
    "\n",
    "    for i in range(1, iterations):\n",
    "        arr = list(range(1, n))\n",
    "        sum_binary.append(timeit(lambda: binary_search(arr, 0, len(arr)-1, n_max), number = 1))\n",
    "        sum_ternary.append(timeit(lambda: ternary_search(arr, 0, len(arr)-1, n_max), number = 1))\n",
    "        sum_quaternary.append(timeit(lambda: quaternary_search(arr, 0, len(arr)-1, n_max), number = 1))\n",
    "        \n",
    "    t_binary.append(sorted(sum_binary)[iterations // 2])\n",
    "    t_ternary.append(sorted(sum_ternary)[iterations // 2])\n",
    "    t_quaternary.append(sorted(sum_quaternary)[iterations // 2])"
   ]
  },
  {
   "cell_type": "code",
   "execution_count": 6,
   "metadata": {},
   "outputs": [
    {
     "data": {
      "text/plain": [
       "<matplotlib.legend.Legend at 0x7fb4306c19a0>"
      ]
     },
     "execution_count": 6,
     "metadata": {},
     "output_type": "execute_result"
    },
    {
     "data": {
      "image/png": "[encoded data removed]",
      "text/plain": [
       "<Figure size 432x288 with 1 Axes>"
      ]
     },
     "metadata": {
      "needs_background": "light"
     },
     "output_type": "display_data"
    }
   ],
   "source": [
    "x = range(n_min, n_max, st)\n",
    "plt.xlabel('n')\n",
    "plt.ylabel('media')\n",
    "plt.plot(x, t_binary, label = 'binary')\n",
    "plt.plot(x, t_ternary, label = 'ternary')\n",
    "plt.plot(x, t_quaternary, label = 'quaternary')\n",
    "plt.legend()"
   ]
  },
  {
   "cell_type": "code",
   "execution_count": null,
   "metadata": {},
   "outputs": [],
   "source": []
  },
  {
   "cell_type": "code",
   "execution_count": null,
   "metadata": {},
   "outputs": [],
   "source": []
  }
 ],
 "metadata": {
  "kernelspec": {
   "display_name": "Python 3",
   "language": "python",
   "name": "python3"
  },
  "language_info": {
   "codemirror_mode": {
    "name": "ipython",
    "version": 3
   },
   "file_extension": ".py",
   "mimetype": "text/x-python",
   "name": "python",
   "nbconvert_exporter": "python",
   "pygments_lexer": "ipython3",
   "version": "3.8.3"
  }
 },
 "nbformat": 4,
 "nbformat_minor": 4
}
